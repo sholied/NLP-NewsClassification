{
  "cells": [
    {
      "cell_type": "markdown",
      "metadata": {
        "id": "G70qiUsI8Bq-"
      },
      "source": [
        "***About Dataset***\n",
        "\n",
        "Dataset yang digunakand dalam tugas ini adalah bersumber dari kaggel. Dataset ini merupakan dataset untuk multi label kategory berita BBC, bisa di akses dalam [Tautan](https://www.kaggle.com/datasets/sainijagjit/bbc-dataset) ini.\n",
        "\n",
        "Data tersebut memiliki 5 label atau kelas (sport, business, politics, tech, dan entertainment). Total data ada 2225 baris dan 2 kolom, kolom label dan judul berita."
      ]
    },
    {
      "cell_type": "markdown",
      "metadata": {
        "id": "Tj6DvHy0783t"
      },
      "source": [
        "# Libraries"
      ]
    },
    {
      "cell_type": "code",
      "execution_count": 1,
      "metadata": {
        "colab": {
          "base_uri": "https://localhost:8080/"
        },
        "id": "pbQuR8l07-tF",
        "outputId": "d4f23177-1bcf-4a2a-cb49-d0a25b26d3fc"
      },
      "outputs": [
        {
          "output_type": "stream",
          "name": "stderr",
          "text": [
            "[nltk_data] Downloading package stopwords to /root/nltk_data...\n",
            "[nltk_data]   Unzipping corpora/stopwords.zip.\n",
            "[nltk_data] Downloading package wordnet to /root/nltk_data...\n",
            "[nltk_data] Downloading package punkt to /root/nltk_data...\n",
            "[nltk_data]   Unzipping tokenizers/punkt.zip.\n",
            "[nltk_data] Downloading package averaged_perceptron_tagger to\n",
            "[nltk_data]     /root/nltk_data...\n",
            "[nltk_data]   Unzipping taggers/averaged_perceptron_tagger.zip.\n",
            "[nltk_data] Downloading package words to /root/nltk_data...\n",
            "[nltk_data]   Unzipping corpora/words.zip.\n",
            "[nltk_data] Downloading package omw-1.4 to /root/nltk_data...\n"
          ]
        },
        {
          "output_type": "execute_result",
          "data": {
            "text/plain": [
              "True"
            ]
          },
          "metadata": {},
          "execution_count": 1
        }
      ],
      "source": [
        "import pandas as pd\n",
        "import matplotlib.pyplot as plt\n",
        "import numpy as np\n",
        "import seaborn as sns\n",
        "import nltk\n",
        "nltk.download('stopwords')\n",
        "nltk.download('wordnet')\n",
        "nltk.download('punkt')\n",
        "nltk.download('averaged_perceptron_tagger')\n",
        "nltk.download('words')\n",
        "nltk.download('omw-1.4')"
      ]
    },
    {
      "cell_type": "code",
      "execution_count": 2,
      "metadata": {
        "id": "8tkQ5XSzo5I0"
      },
      "outputs": [],
      "source": [
        "from google.colab import files\n",
        "import os\n",
        "import re\n",
        "import textblob\n",
        "import json\n",
        "from tensorflow.keras.preprocessing.text import Tokenizer\n",
        "from tensorflow.keras.preprocessing.sequence import pad_sequences\n",
        "from sklearn.model_selection import train_test_split\n",
        "import tensorflow as tf\n",
        "import matplotlib.pyplot as plt"
      ]
    },
    {
      "cell_type": "markdown",
      "metadata": {
        "id": "m24RBZJE2nj_"
      },
      "source": [
        "# Download Dataset"
      ]
    },
    {
      "cell_type": "code",
      "execution_count": null,
      "metadata": {
        "id": "w6xzf13d78bJ"
      },
      "outputs": [],
      "source": [
        "# Upload file kaggle.json for permission download\n",
        "files.upload()"
      ]
    },
    {
      "cell_type": "code",
      "execution_count": 4,
      "metadata": {
        "colab": {
          "base_uri": "https://localhost:8080/"
        },
        "id": "jK-LH0iA9d-x",
        "outputId": "d72e8cfa-1ea1-4e8b-ed83-85a4ff2c0a06"
      },
      "outputs": [
        {
          "output_type": "execute_result",
          "data": {
            "text/plain": [
              "['.config', 'kaggle.json', 'sample_data']"
            ]
          },
          "metadata": {},
          "execution_count": 4
        }
      ],
      "source": [
        "os.listdir()"
      ]
    },
    {
      "cell_type": "code",
      "execution_count": 5,
      "metadata": {
        "id": "02JCb3zI2pvu"
      },
      "outputs": [],
      "source": [
        "# Move file kaggle.jsonn to root folder\n",
        "!mkdir -p ~/.kaggle\n",
        "!cp kaggle.json ~/.kaggle/\n",
        "# set permissions\n",
        "!chmod 600 /root/.kaggle/kaggle.json\n",
        "# list all available datasets\n",
        "# !kaggle datasets list"
      ]
    },
    {
      "cell_type": "code",
      "execution_count": 6,
      "metadata": {
        "colab": {
          "base_uri": "https://localhost:8080/"
        },
        "id": "av2WiwDjz5X-",
        "outputId": "0f78efcd-5de3-42dd-e3e9-60bab9c5d469"
      },
      "outputs": [
        {
          "output_type": "stream",
          "name": "stdout",
          "text": [
            "Downloading bbc-dataset.zip to /content\n",
            "\r  0% 0.00/1.83M [00:00<?, ?B/s]\n",
            "\r100% 1.83M/1.83M [00:00<00:00, 195MB/s]\n"
          ]
        }
      ],
      "source": [
        "!kaggle datasets download -d sainijagjit/bbc-dataset"
      ]
    },
    {
      "cell_type": "code",
      "execution_count": 7,
      "metadata": {
        "colab": {
          "base_uri": "https://localhost:8080/"
        },
        "id": "A6hAOf7-2gL2",
        "outputId": "59a166ce-5873-4e64-ff54-07e3b754c7ff"
      },
      "outputs": [
        {
          "output_type": "stream",
          "name": "stdout",
          "text": [
            "Archive:  bbc-dataset.zip\n",
            "  inflating: bbc-text.csv            \n"
          ]
        }
      ],
      "source": [
        "!unzip bbc-dataset.zip"
      ]
    },
    {
      "cell_type": "markdown",
      "metadata": {
        "id": "CRHT1f6C4jlm"
      },
      "source": [
        "# Data Load"
      ]
    },
    {
      "cell_type": "code",
      "execution_count": 8,
      "metadata": {
        "id": "RQtuXAVv4cr2"
      },
      "outputs": [],
      "source": [
        "# Read dataset\n",
        "read_data = pd.read_csv('bbc-text.csv')"
      ]
    },
    {
      "cell_type": "code",
      "execution_count": 9,
      "metadata": {
        "colab": {
          "base_uri": "https://localhost:8080/"
        },
        "id": "YcLCk2Ma5MK3",
        "outputId": "7efd2596-b09f-4d94-9228-1197dbe5ae10"
      },
      "outputs": [
        {
          "output_type": "stream",
          "name": "stdout",
          "text": [
            "<class 'pandas.core.frame.DataFrame'>\n",
            "RangeIndex: 2225 entries, 0 to 2224\n",
            "Data columns (total 2 columns):\n",
            " #   Column    Non-Null Count  Dtype \n",
            "---  ------    --------------  ----- \n",
            " 0   category  2225 non-null   object\n",
            " 1   text      2225 non-null   object\n",
            "dtypes: object(2)\n",
            "memory usage: 34.9+ KB\n"
          ]
        }
      ],
      "source": [
        "read_data.info()"
      ]
    },
    {
      "cell_type": "code",
      "execution_count": 10,
      "metadata": {
        "colab": {
          "base_uri": "https://localhost:8080/",
          "height": 0
        },
        "id": "xo8jTQ2w5Ny2",
        "outputId": "074d69ce-e08b-4236-afd7-794d9fe0140e"
      },
      "outputs": [
        {
          "output_type": "execute_result",
          "data": {
            "text/plain": [
              "        category                                               text\n",
              "0           tech  tv future in the hands of viewers with home th...\n",
              "1       business  worldcom boss  left books alone  former worldc...\n",
              "2          sport  tigers wary of farrell  gamble  leicester say ...\n",
              "3          sport  yeading face newcastle in fa cup premiership s...\n",
              "4  entertainment  ocean s twelve raids box office ocean s twelve..."
            ],
            "text/html": [
              "\n",
              "  <div id=\"df-8def5beb-84a8-4371-bb77-e746ead1660a\">\n",
              "    <div class=\"colab-df-container\">\n",
              "      <div>\n",
              "<style scoped>\n",
              "    .dataframe tbody tr th:only-of-type {\n",
              "        vertical-align: middle;\n",
              "    }\n",
              "\n",
              "    .dataframe tbody tr th {\n",
              "        vertical-align: top;\n",
              "    }\n",
              "\n",
              "    .dataframe thead th {\n",
              "        text-align: right;\n",
              "    }\n",
              "</style>\n",
              "<table border=\"1\" class=\"dataframe\">\n",
              "  <thead>\n",
              "    <tr style=\"text-align: right;\">\n",
              "      <th></th>\n",
              "      <th>category</th>\n",
              "      <th>text</th>\n",
              "    </tr>\n",
              "  </thead>\n",
              "  <tbody>\n",
              "    <tr>\n",
              "      <th>0</th>\n",
              "      <td>tech</td>\n",
              "      <td>tv future in the hands of viewers with home th...</td>\n",
              "    </tr>\n",
              "    <tr>\n",
              "      <th>1</th>\n",
              "      <td>business</td>\n",
              "      <td>worldcom boss  left books alone  former worldc...</td>\n",
              "    </tr>\n",
              "    <tr>\n",
              "      <th>2</th>\n",
              "      <td>sport</td>\n",
              "      <td>tigers wary of farrell  gamble  leicester say ...</td>\n",
              "    </tr>\n",
              "    <tr>\n",
              "      <th>3</th>\n",
              "      <td>sport</td>\n",
              "      <td>yeading face newcastle in fa cup premiership s...</td>\n",
              "    </tr>\n",
              "    <tr>\n",
              "      <th>4</th>\n",
              "      <td>entertainment</td>\n",
              "      <td>ocean s twelve raids box office ocean s twelve...</td>\n",
              "    </tr>\n",
              "  </tbody>\n",
              "</table>\n",
              "</div>\n",
              "      <button class=\"colab-df-convert\" onclick=\"convertToInteractive('df-8def5beb-84a8-4371-bb77-e746ead1660a')\"\n",
              "              title=\"Convert this dataframe to an interactive table.\"\n",
              "              style=\"display:none;\">\n",
              "        \n",
              "  <svg xmlns=\"http://www.w3.org/2000/svg\" height=\"24px\"viewBox=\"0 0 24 24\"\n",
              "       width=\"24px\">\n",
              "    <path d=\"M0 0h24v24H0V0z\" fill=\"none\"/>\n",
              "    <path d=\"M18.56 5.44l.94 2.06.94-2.06 2.06-.94-2.06-.94-.94-2.06-.94 2.06-2.06.94zm-11 1L8.5 8.5l.94-2.06 2.06-.94-2.06-.94L8.5 2.5l-.94 2.06-2.06.94zm10 10l.94 2.06.94-2.06 2.06-.94-2.06-.94-.94-2.06-.94 2.06-2.06.94z\"/><path d=\"M17.41 7.96l-1.37-1.37c-.4-.4-.92-.59-1.43-.59-.52 0-1.04.2-1.43.59L10.3 9.45l-7.72 7.72c-.78.78-.78 2.05 0 2.83L4 21.41c.39.39.9.59 1.41.59.51 0 1.02-.2 1.41-.59l7.78-7.78 2.81-2.81c.8-.78.8-2.07 0-2.86zM5.41 20L4 18.59l7.72-7.72 1.47 1.35L5.41 20z\"/>\n",
              "  </svg>\n",
              "      </button>\n",
              "      \n",
              "  <style>\n",
              "    .colab-df-container {\n",
              "      display:flex;\n",
              "      flex-wrap:wrap;\n",
              "      gap: 12px;\n",
              "    }\n",
              "\n",
              "    .colab-df-convert {\n",
              "      background-color: #E8F0FE;\n",
              "      border: none;\n",
              "      border-radius: 50%;\n",
              "      cursor: pointer;\n",
              "      display: none;\n",
              "      fill: #1967D2;\n",
              "      height: 32px;\n",
              "      padding: 0 0 0 0;\n",
              "      width: 32px;\n",
              "    }\n",
              "\n",
              "    .colab-df-convert:hover {\n",
              "      background-color: #E2EBFA;\n",
              "      box-shadow: 0px 1px 2px rgba(60, 64, 67, 0.3), 0px 1px 3px 1px rgba(60, 64, 67, 0.15);\n",
              "      fill: #174EA6;\n",
              "    }\n",
              "\n",
              "    [theme=dark] .colab-df-convert {\n",
              "      background-color: #3B4455;\n",
              "      fill: #D2E3FC;\n",
              "    }\n",
              "\n",
              "    [theme=dark] .colab-df-convert:hover {\n",
              "      background-color: #434B5C;\n",
              "      box-shadow: 0px 1px 3px 1px rgba(0, 0, 0, 0.15);\n",
              "      filter: drop-shadow(0px 1px 2px rgba(0, 0, 0, 0.3));\n",
              "      fill: #FFFFFF;\n",
              "    }\n",
              "  </style>\n",
              "\n",
              "      <script>\n",
              "        const buttonEl =\n",
              "          document.querySelector('#df-8def5beb-84a8-4371-bb77-e746ead1660a button.colab-df-convert');\n",
              "        buttonEl.style.display =\n",
              "          google.colab.kernel.accessAllowed ? 'block' : 'none';\n",
              "\n",
              "        async function convertToInteractive(key) {\n",
              "          const element = document.querySelector('#df-8def5beb-84a8-4371-bb77-e746ead1660a');\n",
              "          const dataTable =\n",
              "            await google.colab.kernel.invokeFunction('convertToInteractive',\n",
              "                                                     [key], {});\n",
              "          if (!dataTable) return;\n",
              "\n",
              "          const docLinkHtml = 'Like what you see? Visit the ' +\n",
              "            '<a target=\"_blank\" href=https://colab.research.google.com/notebooks/data_table.ipynb>data table notebook</a>'\n",
              "            + ' to learn more about interactive tables.';\n",
              "          element.innerHTML = '';\n",
              "          dataTable['output_type'] = 'display_data';\n",
              "          await google.colab.output.renderOutput(dataTable, element);\n",
              "          const docLink = document.createElement('div');\n",
              "          docLink.innerHTML = docLinkHtml;\n",
              "          element.appendChild(docLink);\n",
              "        }\n",
              "      </script>\n",
              "    </div>\n",
              "  </div>\n",
              "  "
            ]
          },
          "metadata": {},
          "execution_count": 10
        }
      ],
      "source": [
        "read_data.head()"
      ]
    },
    {
      "cell_type": "code",
      "source": [
        "read_data.info()"
      ],
      "metadata": {
        "colab": {
          "base_uri": "https://localhost:8080/"
        },
        "id": "OQelGoQ_lyCO",
        "outputId": "d42baf41-9e0f-4688-cbba-a20bb0e84f51"
      },
      "execution_count": 11,
      "outputs": [
        {
          "output_type": "stream",
          "name": "stdout",
          "text": [
            "<class 'pandas.core.frame.DataFrame'>\n",
            "RangeIndex: 2225 entries, 0 to 2224\n",
            "Data columns (total 2 columns):\n",
            " #   Column    Non-Null Count  Dtype \n",
            "---  ------    --------------  ----- \n",
            " 0   category  2225 non-null   object\n",
            " 1   text      2225 non-null   object\n",
            "dtypes: object(2)\n",
            "memory usage: 34.9+ KB\n"
          ]
        }
      ]
    },
    {
      "cell_type": "markdown",
      "metadata": {
        "id": "6cr0PweQ5bUY"
      },
      "source": [
        "# Data Preprocessing"
      ]
    },
    {
      "cell_type": "markdown",
      "metadata": {
        "id": "YQSlBo-gU-dN"
      },
      "source": [
        "## Label Preprocessing"
      ]
    },
    {
      "cell_type": "code",
      "execution_count": 12,
      "metadata": {
        "colab": {
          "base_uri": "https://localhost:8080/",
          "height": 0
        },
        "id": "hEr58Q9aDTDO",
        "outputId": "1ef6d876-a366-4b66-f342-58567703d676"
      },
      "outputs": [
        {
          "output_type": "stream",
          "name": "stdout",
          "text": [
            "sport            511\n",
            "business         510\n",
            "politics         417\n",
            "tech             401\n",
            "entertainment    386\n",
            "Name: category, dtype: int64\n"
          ]
        },
        {
          "output_type": "execute_result",
          "data": {
            "text/plain": [
              "<matplotlib.axes._subplots.AxesSubplot at 0x7f962db79b90>"
            ]
          },
          "metadata": {},
          "execution_count": 12
        },
        {
          "output_type": "display_data",
          "data": {
            "text/plain": [
              "<Figure size 432x288 with 1 Axes>"
            ],
            "image/png": "[encoded data removed]"
          },
          "metadata": {
            "needs_background": "light"
          }
        }
      ],
      "source": [
        "# checking distribution of label\n",
        "print(read_data['category'].value_counts())\n",
        "\n",
        "#plot the distirbution\n",
        "read_data['category'].value_counts().plot.bar()"
      ]
    },
    {
      "cell_type": "code",
      "source": [
        "# Get dummies data\n",
        "category = pd.get_dummies(read_data.category)\n",
        "df_baru = pd.concat([read_data, category], axis=1)\n",
        "df_baru = df_baru.drop(columns='category')\n",
        "df_baru.info()"
      ],
      "metadata": {
        "colab": {
          "base_uri": "https://localhost:8080/"
        },
        "id": "BoGc_zdqaece",
        "outputId": "0d05e705-8cb7-4159-d1df-f346383c543a"
      },
      "execution_count": 13,
      "outputs": [
        {
          "output_type": "stream",
          "name": "stdout",
          "text": [
            "<class 'pandas.core.frame.DataFrame'>\n",
            "RangeIndex: 2225 entries, 0 to 2224\n",
            "Data columns (total 6 columns):\n",
            " #   Column         Non-Null Count  Dtype \n",
            "---  ------         --------------  ----- \n",
            " 0   text           2225 non-null   object\n",
            " 1   business       2225 non-null   uint8 \n",
            " 2   entertainment  2225 non-null   uint8 \n",
            " 3   politics       2225 non-null   uint8 \n",
            " 4   sport          2225 non-null   uint8 \n",
            " 5   tech           2225 non-null   uint8 \n",
            "dtypes: object(1), uint8(5)\n",
            "memory usage: 28.4+ KB\n"
          ]
        }
      ]
    },
    {
      "cell_type": "code",
      "execution_count": 14,
      "metadata": {
        "id": "nGeqqXfFk0xD",
        "colab": {
          "base_uri": "https://localhost:8080/"
        },
        "outputId": "965ed068-343e-4d7e-938d-dae98c80f891"
      },
      "outputs": [
        {
          "output_type": "execute_result",
          "data": {
            "text/plain": [
              "array([[0, 0, 0, 0, 1],\n",
              "       [1, 0, 0, 0, 0],\n",
              "       [0, 0, 0, 1, 0],\n",
              "       ...,\n",
              "       [0, 1, 0, 0, 0],\n",
              "       [0, 0, 1, 0, 0],\n",
              "       [0, 0, 0, 1, 0]], dtype=uint8)"
            ]
          },
          "metadata": {},
          "execution_count": 14
        }
      ],
      "source": [
        "# define label\n",
        "label_news = df_baru.drop('text', axis=1).values\n",
        "label_news"
      ]
    },
    {
      "cell_type": "markdown",
      "metadata": {
        "id": "MkzZGFI5VCJm"
      },
      "source": [
        "## Text/Attribute Preprocessing"
      ]
    },
    {
      "cell_type": "code",
      "execution_count": 15,
      "metadata": {
        "colab": {
          "base_uri": "https://localhost:8080/"
        },
        "id": "F3NkoppzZZc_",
        "outputId": "9895e6ae-00c0-4347-a803-c90490a1d103"
      },
      "outputs": [
        {
          "output_type": "stream",
          "name": "stdout",
          "text": [
            "--2022-09-27 03:38:51--  https://raw.githubusercontent.com/sholied/Dicoding-ProjectAkhir/main/dict.txt\n",
            "Resolving raw.githubusercontent.com (raw.githubusercontent.com)... 185.199.108.133, 185.199.109.133, 185.199.110.133, ...\n",
            "Connecting to raw.githubusercontent.com (raw.githubusercontent.com)|185.199.108.133|:443... connected.\n",
            "HTTP request sent, awaiting response... 200 OK\n",
            "Length: 2933 (2.9K) [text/plain]\n",
            "Saving to: ‘dict.txt’\n",
            "\n",
            "dict.txt            100%[===================>]   2.86K  --.-KB/s    in 0s      \n",
            "\n",
            "2022-09-27 03:38:52 (50.4 MB/s) - ‘dict.txt’ saved [2933/2933]\n",
            "\n"
          ]
        }
      ],
      "source": [
        "!wget https://raw.githubusercontent.com/sholied/Dicoding-ProjectAkhir/main/dict.txt"
      ]
    },
    {
      "cell_type": "code",
      "execution_count": 16,
      "metadata": {
        "id": "N3dc-dab7d93"
      },
      "outputs": [],
      "source": [
        "# define contractions function\n",
        "def contractions(text):\n",
        "\t# https://gist.github.com/nealrs/96342d8231b75cf4bb82\n",
        "\t# https://en.wikipedia.org/wiki/Wikipedia:List_of_English_contractions\n",
        "\n",
        "\tcDict = json.load(open(\"dict.txt\"))\n",
        "\ttry:\n",
        "\t\tc_re = re.compile('(%s)' % '|'.join(cDict.keys()))\n",
        "\n",
        "\t\tdef expandContractions(text, c_re=c_re):\n",
        "\t\t\tdef replace(match):\n",
        "\t\t\t\treturn cDict[match.group(0)]\n",
        "\t\t\treturn c_re.sub(replace, text)\n",
        "\t\t\n",
        "\t\ttext = expandContractions(text.lower())\n",
        "\t\treturn text\n",
        "\texcept Exception as e:\n",
        "\t\tprint(\"contractions\", e)\n"
      ]
    },
    {
      "cell_type": "code",
      "execution_count": 17,
      "metadata": {
        "id": "2DtRc_UgpSot"
      },
      "outputs": [],
      "source": [
        "# remove stopwrods\n",
        "stopwords_en = nltk.corpus.stopwords.words('english')\n",
        "def remove_stopwords(text):\n",
        "  result = []\n",
        "  for token in text:\n",
        "      if token not in stopwords_en:\n",
        "          result.append(token)\n",
        "  return result\n",
        "\n",
        "# stemming\n",
        "def stemming(text):\n",
        "  porter = nltk.stem.PorterStemmer()\n",
        "  result=[]\n",
        "  for word in text:\n",
        "      result.append(porter.stem(word))\n",
        "  return result\n",
        "\n",
        "# lemmatization\n",
        "def lemmatization(text): \n",
        "  result=[]\n",
        "  wordnet = nltk.stem.WordNetLemmatizer()\n",
        "  for token,tag in nltk.pos_tag(text):\n",
        "      pos=tag[0].lower()     \n",
        "      if pos not in ['a', 'r', 'n', 'v']:\n",
        "          pos='n'         \n",
        "      result.append(wordnet.lemmatize(token,pos))\n",
        "  return result"
      ]
    },
    {
      "cell_type": "code",
      "execution_count": 18,
      "metadata": {
        "id": "j6wrP1PvV91k"
      },
      "outputs": [],
      "source": [
        "# make preprocessing text (remove urls, hastags, mention, etc) function\n",
        "def textPreprocessing(text):\n",
        "  try:\n",
        "    # contractions\n",
        "    text = contractions(text)\n",
        "    # remove URLs\n",
        "    text = re.sub('https?://[A-Za-z0-9./?&=_]+','',text)\n",
        "    # hashtags\n",
        "    text = re.sub('#[A-Za-z0-9]+','',text)\n",
        "    # mentions\n",
        "    text = re.sub('@[A-Za-z0-9._-]+','',text)\n",
        "    #remove white spaces\n",
        "    text = \" \".join(text.strip().split())\n",
        "    #lowercasing\n",
        "    text = text.lower()\n",
        "  except Exception as e:\n",
        "    print(\"clearText error - \", e)\n",
        "\n",
        "  return text"
      ]
    },
    {
      "cell_type": "code",
      "source": [
        "df_baru.info()"
      ],
      "metadata": {
        "colab": {
          "base_uri": "https://localhost:8080/"
        },
        "id": "lXZ0QzFOIZL8",
        "outputId": "aead65db-769b-4417-ab03-ccf5e8cf156f"
      },
      "execution_count": 19,
      "outputs": [
        {
          "output_type": "stream",
          "name": "stdout",
          "text": [
            "<class 'pandas.core.frame.DataFrame'>\n",
            "RangeIndex: 2225 entries, 0 to 2224\n",
            "Data columns (total 6 columns):\n",
            " #   Column         Non-Null Count  Dtype \n",
            "---  ------         --------------  ----- \n",
            " 0   text           2225 non-null   object\n",
            " 1   business       2225 non-null   uint8 \n",
            " 2   entertainment  2225 non-null   uint8 \n",
            " 3   politics       2225 non-null   uint8 \n",
            " 4   sport          2225 non-null   uint8 \n",
            " 5   tech           2225 non-null   uint8 \n",
            "dtypes: object(1), uint8(5)\n",
            "memory usage: 28.4+ KB\n"
          ]
        }
      ]
    },
    {
      "cell_type": "code",
      "execution_count": 20,
      "metadata": {
        "id": "zwGqTL2kYjsg"
      },
      "outputs": [],
      "source": [
        "# preprocessing text \n",
        "df_baru.text=df_baru.text.apply(textPreprocessing)\n",
        "# tokenization\n",
        "df_baru.text=df_baru.text.apply(lambda X: nltk.word_tokenize(X))\n",
        "# Stopwords\n",
        "df_baru.text=df_baru.text.apply(remove_stopwords)\n",
        "# lemmatization\n",
        "df_baru.text=df_baru.text.apply(lemmatization)\n",
        "# Steamming\n",
        "df_baru.text=df_baru.text.apply(stemming)"
      ]
    },
    {
      "cell_type": "code",
      "source": [
        "df_baru"
      ],
      "metadata": {
        "colab": {
          "base_uri": "https://localhost:8080/",
          "height": 0
        },
        "id": "6V9dHgAfIAGH",
        "outputId": "3dd03da7-7e67-4420-ad73-1ecbb4dad850"
      },
      "execution_count": 21,
      "outputs": [
        {
          "output_type": "execute_result",
          "data": {
            "text/plain": [
              "                                                   text  business  \\\n",
              "0     [tv, futur, hand, viewer, home, theatr, system...         0   \n",
              "1     [worldcom, bo, leav, book, alon, former, world...         1   \n",
              "2     [tiger, wari, farrel, gambl, leicest, say, rus...         0   \n",
              "3     [yead, face, newcastl, fa, cup, premiership, s...         0   \n",
              "4     [ocean, twelv, raid, box, offic, ocean, twelv,...         0   \n",
              "...                                                 ...       ...   \n",
              "2220  [car, pull, u, retail, figur, u, retail, sale,...         1   \n",
              "2221  [kilroy, unveil, ammigr, polici, ex-chatshow, ...         0   \n",
              "2222  [rem, announc, new, glasgow, concert, u, band,...         0   \n",
              "2223  [polit, squabbl, snowbal, becom, commonplac, a...         0   \n",
              "2224  [souness, delight, euro, progress, bo, graem, ...         0   \n",
              "\n",
              "      entertainment  politics  sport  tech  \n",
              "0                 0         0      0     1  \n",
              "1                 0         0      0     0  \n",
              "2                 0         0      1     0  \n",
              "3                 0         0      1     0  \n",
              "4                 1         0      0     0  \n",
              "...             ...       ...    ...   ...  \n",
              "2220              0         0      0     0  \n",
              "2221              0         1      0     0  \n",
              "2222              1         0      0     0  \n",
              "2223              0         1      0     0  \n",
              "2224              0         0      1     0  \n",
              "\n",
              "[2225 rows x 6 columns]"
            ],
            "text/html": [
              "\n",
              "  <div id=\"df-6cbd1397-f9a3-48d0-9775-d0afec8db2a5\">\n",
              "    <div class=\"colab-df-container\">\n",
              "      <div>\n",
              "<style scoped>\n",
              "    .dataframe tbody tr th:only-of-type {\n",
              "        vertical-align: middle;\n",
              "    }\n",
              "\n",
              "    .dataframe tbody tr th {\n",
              "        vertical-align: top;\n",
              "    }\n",
              "\n",
              "    .dataframe thead th {\n",
              "        text-align: right;\n",
              "    }\n",
              "</style>\n",
              "<table border=\"1\" class=\"dataframe\">\n",
              "  <thead>\n",
              "    <tr style=\"text-align: right;\">\n",
              "      <th></th>\n",
              "      <th>text</th>\n",
              "      <th>business</th>\n",
              "      <th>entertainment</th>\n",
              "      <th>politics</th>\n",
              "      <th>sport</th>\n",
              "      <th>tech</th>\n",
              "    </tr>\n",
              "  </thead>\n",
              "  <tbody>\n",
              "    <tr>\n",
              "      <th>0</th>\n",
              "      <td>[tv, futur, hand, viewer, home, theatr, system...</td>\n",
              "      <td>0</td>\n",
              "      <td>0</td>\n",
              "      <td>0</td>\n",
              "      <td>0</td>\n",
              "      <td>1</td>\n",
              "    </tr>\n",
              "    <tr>\n",
              "      <th>1</th>\n",
              "      <td>[worldcom, bo, leav, book, alon, former, world...</td>\n",
              "      <td>1</td>\n",
              "      <td>0</td>\n",
              "      <td>0</td>\n",
              "      <td>0</td>\n",
              "      <td>0</td>\n",
              "    </tr>\n",
              "    <tr>\n",
              "      <th>2</th>\n",
              "      <td>[tiger, wari, farrel, gambl, leicest, say, rus...</td>\n",
              "      <td>0</td>\n",
              "      <td>0</td>\n",
              "      <td>0</td>\n",
              "      <td>1</td>\n",
              "      <td>0</td>\n",
              "    </tr>\n",
              "    <tr>\n",
              "      <th>3</th>\n",
              "      <td>[yead, face, newcastl, fa, cup, premiership, s...</td>\n",
              "      <td>0</td>\n",
              "      <td>0</td>\n",
              "      <td>0</td>\n",
              "      <td>1</td>\n",
              "      <td>0</td>\n",
              "    </tr>\n",
              "    <tr>\n",
              "      <th>4</th>\n",
              "      <td>[ocean, twelv, raid, box, offic, ocean, twelv,...</td>\n",
              "      <td>0</td>\n",
              "      <td>1</td>\n",
              "      <td>0</td>\n",
              "      <td>0</td>\n",
              "      <td>0</td>\n",
              "    </tr>\n",
              "    <tr>\n",
              "      <th>...</th>\n",
              "      <td>...</td>\n",
              "      <td>...</td>\n",
              "      <td>...</td>\n",
              "      <td>...</td>\n",
              "      <td>...</td>\n",
              "      <td>...</td>\n",
              "    </tr>\n",
              "    <tr>\n",
              "      <th>2220</th>\n",
              "      <td>[car, pull, u, retail, figur, u, retail, sale,...</td>\n",
              "      <td>1</td>\n",
              "      <td>0</td>\n",
              "      <td>0</td>\n",
              "      <td>0</td>\n",
              "      <td>0</td>\n",
              "    </tr>\n",
              "    <tr>\n",
              "      <th>2221</th>\n",
              "      <td>[kilroy, unveil, ammigr, polici, ex-chatshow, ...</td>\n",
              "      <td>0</td>\n",
              "      <td>0</td>\n",
              "      <td>1</td>\n",
              "      <td>0</td>\n",
              "      <td>0</td>\n",
              "    </tr>\n",
              "    <tr>\n",
              "      <th>2222</th>\n",
              "      <td>[rem, announc, new, glasgow, concert, u, band,...</td>\n",
              "      <td>0</td>\n",
              "      <td>1</td>\n",
              "      <td>0</td>\n",
              "      <td>0</td>\n",
              "      <td>0</td>\n",
              "    </tr>\n",
              "    <tr>\n",
              "      <th>2223</th>\n",
              "      <td>[polit, squabbl, snowbal, becom, commonplac, a...</td>\n",
              "      <td>0</td>\n",
              "      <td>0</td>\n",
              "      <td>1</td>\n",
              "      <td>0</td>\n",
              "      <td>0</td>\n",
              "    </tr>\n",
              "    <tr>\n",
              "      <th>2224</th>\n",
              "      <td>[souness, delight, euro, progress, bo, graem, ...</td>\n",
              "      <td>0</td>\n",
              "      <td>0</td>\n",
              "      <td>0</td>\n",
              "      <td>1</td>\n",
              "      <td>0</td>\n",
              "    </tr>\n",
              "  </tbody>\n",
              "</table>\n",
              "<p>2225 rows × 6 columns</p>\n",
              "</div>\n",
              "      <button class=\"colab-df-convert\" onclick=\"convertToInteractive('df-6cbd1397-f9a3-48d0-9775-d0afec8db2a5')\"\n",
              "              title=\"Convert this dataframe to an interactive table.\"\n",
              "              style=\"display:none;\">\n",
              "        \n",
              "  <svg xmlns=\"http://www.w3.org/2000/svg\" height=\"24px\"viewBox=\"0 0 24 24\"\n",
              "       width=\"24px\">\n",
              "    <path d=\"M0 0h24v24H0V0z\" fill=\"none\"/>\n",
              "    <path d=\"M18.56 5.44l.94 2.06.94-2.06 2.06-.94-2.06-.94-.94-2.06-.94 2.06-2.06.94zm-11 1L8.5 8.5l.94-2.06 2.06-.94-2.06-.94L8.5 2.5l-.94 2.06-2.06.94zm10 10l.94 2.06.94-2.06 2.06-.94-2.06-.94-.94-2.06-.94 2.06-2.06.94z\"/><path d=\"M17.41 7.96l-1.37-1.37c-.4-.4-.92-.59-1.43-.59-.52 0-1.04.2-1.43.59L10.3 9.45l-7.72 7.72c-.78.78-.78 2.05 0 2.83L4 21.41c.39.39.9.59 1.41.59.51 0 1.02-.2 1.41-.59l7.78-7.78 2.81-2.81c.8-.78.8-2.07 0-2.86zM5.41 20L4 18.59l7.72-7.72 1.47 1.35L5.41 20z\"/>\n",
              "  </svg>\n",
              "      </button>\n",
              "      \n",
              "  <style>\n",
              "    .colab-df-container {\n",
              "      display:flex;\n",
              "      flex-wrap:wrap;\n",
              "      gap: 12px;\n",
              "    }\n",
              "\n",
              "    .colab-df-convert {\n",
              "      background-color: #E8F0FE;\n",
              "      border: none;\n",
              "      border-radius: 50%;\n",
              "      cursor: pointer;\n",
              "      display: none;\n",
              "      fill: #1967D2;\n",
              "      height: 32px;\n",
              "      padding: 0 0 0 0;\n",
              "      width: 32px;\n",
              "    }\n",
              "\n",
              "    .colab-df-convert:hover {\n",
              "      background-color: #E2EBFA;\n",
              "      box-shadow: 0px 1px 2px rgba(60, 64, 67, 0.3), 0px 1px 3px 1px rgba(60, 64, 67, 0.15);\n",
              "      fill: #174EA6;\n",
              "    }\n",
              "\n",
              "    [theme=dark] .colab-df-convert {\n",
              "      background-color: #3B4455;\n",
              "      fill: #D2E3FC;\n",
              "    }\n",
              "\n",
              "    [theme=dark] .colab-df-convert:hover {\n",
              "      background-color: #434B5C;\n",
              "      box-shadow: 0px 1px 3px 1px rgba(0, 0, 0, 0.15);\n",
              "      filter: drop-shadow(0px 1px 2px rgba(0, 0, 0, 0.3));\n",
              "      fill: #FFFFFF;\n",
              "    }\n",
              "  </style>\n",
              "\n",
              "      <script>\n",
              "        const buttonEl =\n",
              "          document.querySelector('#df-6cbd1397-f9a3-48d0-9775-d0afec8db2a5 button.colab-df-convert');\n",
              "        buttonEl.style.display =\n",
              "          google.colab.kernel.accessAllowed ? 'block' : 'none';\n",
              "\n",
              "        async function convertToInteractive(key) {\n",
              "          const element = document.querySelector('#df-6cbd1397-f9a3-48d0-9775-d0afec8db2a5');\n",
              "          const dataTable =\n",
              "            await google.colab.kernel.invokeFunction('convertToInteractive',\n",
              "                                                     [key], {});\n",
              "          if (!dataTable) return;\n",
              "\n",
              "          const docLinkHtml = 'Like what you see? Visit the ' +\n",
              "            '<a target=\"_blank\" href=https://colab.research.google.com/notebooks/data_table.ipynb>data table notebook</a>'\n",
              "            + ' to learn more about interactive tables.';\n",
              "          element.innerHTML = '';\n",
              "          dataTable['output_type'] = 'display_data';\n",
              "          await google.colab.output.renderOutput(dataTable, element);\n",
              "          const docLink = document.createElement('div');\n",
              "          docLink.innerHTML = docLinkHtml;\n",
              "          element.appendChild(docLink);\n",
              "        }\n",
              "      </script>\n",
              "    </div>\n",
              "  </div>\n",
              "  "
            ]
          },
          "metadata": {},
          "execution_count": 21
        }
      ]
    },
    {
      "cell_type": "code",
      "execution_count": 22,
      "metadata": {
        "id": "qqYr3newlYRH"
      },
      "outputs": [],
      "source": [
        "content = df_baru.text.values"
      ]
    },
    {
      "cell_type": "code",
      "execution_count": 23,
      "metadata": {
        "id": "1Co5Bwl6SCvB"
      },
      "outputs": [],
      "source": [
        "# Tokenizer define\n",
        "maxlen = 200\n",
        "tokenizer = Tokenizer(num_words=5000, oov_token='-')\n",
        "tokenizer.fit_on_texts(content)\n",
        "sekuens = tokenizer.texts_to_sequences(content)\n",
        "paddedset = pad_sequences(sekuens, maxlen=maxlen)\n",
        "vocab_size = len(tokenizer.word_index)+1"
      ]
    },
    {
      "cell_type": "code",
      "execution_count": 24,
      "metadata": {
        "colab": {
          "base_uri": "https://localhost:8080/"
        },
        "id": "8fmFwjoPwnPu",
        "outputId": "ede704a8-7f7c-450b-b782-54bc28170fe6"
      },
      "outputs": [
        {
          "output_type": "execute_result",
          "data": {
            "text/plain": [
              "((2225, 200), (2225, 5))"
            ]
          },
          "metadata": {},
          "execution_count": 24
        }
      ],
      "source": [
        "paddedset.shape, label_news.shape"
      ]
    },
    {
      "cell_type": "code",
      "execution_count": 25,
      "metadata": {
        "id": "MC5zWV8rxXm2"
      },
      "outputs": [],
      "source": [
        "# split data into data train, validation (80 : 20)\n",
        "data_latih, data_test, label_latih, label_test = train_test_split(paddedset, label_news, test_size=0.2, random_state=42)"
      ]
    },
    {
      "cell_type": "code",
      "execution_count": 26,
      "metadata": {
        "id": "bVBVjWN84HNd"
      },
      "outputs": [],
      "source": [
        "n, num_class = label_latih.shape"
      ]
    },
    {
      "cell_type": "markdown",
      "metadata": {
        "id": "vGYnGLqe3U39"
      },
      "source": [
        "# Model Training"
      ]
    },
    {
      "cell_type": "code",
      "execution_count": 27,
      "metadata": {
        "id": "rrYeGylt-zIb"
      },
      "outputs": [],
      "source": [
        "# callback definition\n",
        "model_checkpoint_callback = tf.keras.callbacks.ModelCheckpoint(\n",
        "                                                              filepath=\"/content/model.h5\",\n",
        "                                                              monitor='val_loss',\n",
        "                                                              save_best_only=True)\n",
        "\n",
        "reduce_lr = tf.keras.callbacks.ReduceLROnPlateau(\n",
        "                                                monitor='val_loss', \n",
        "                                                factor=0.2, \n",
        "                                                mode = 'min',\n",
        "                                                patience=4, \n",
        "                                                min_lr=0.00000001)\n",
        "\n",
        "#define custom early stopping when reach accuracy above 98%\n",
        "class myCustomEarlyStopping(tf.keras.callbacks.Callback): \n",
        "    def on_epoch_end(self, epoch, logs={}): \n",
        "        if(logs.get('val_accuracy') > 0.90):\n",
        "          print(\"\\n Stop training, the model has reached {}% val accuracy!!\".format(logs.get('val_accuracy')*100))   \n",
        "          self.model.stop_training = True\n",
        "\n",
        "early_stop = myCustomEarlyStopping()\n",
        "\n",
        "callbacks = [model_checkpoint_callback, reduce_lr, [early_stop]]"
      ]
    },
    {
      "cell_type": "code",
      "execution_count": 28,
      "metadata": {
        "colab": {
          "base_uri": "https://localhost:8080/"
        },
        "id": "79NPd9eG3RB9",
        "outputId": "ef254c7d-3e60-4fdb-e71b-c8a8f9bca7de"
      },
      "outputs": [
        {
          "output_type": "stream",
          "name": "stdout",
          "text": [
            "Model: \"sequential\"\n",
            "_________________________________________________________________\n",
            " Layer (type)                Output Shape              Param #   \n",
            "=================================================================\n",
            " embedding (Embedding)       (None, 200, 50)           1241850   \n",
            "                                                                 \n",
            " spatial_dropout1d (SpatialD  (None, 200, 50)          0         \n",
            " ropout1D)                                                       \n",
            "                                                                 \n",
            " lstm (LSTM)                 (None, 50)                20200     \n",
            "                                                                 \n",
            " dropout (Dropout)           (None, 50)                0         \n",
            "                                                                 \n",
            " dense (Dense)               (None, 64)                3264      \n",
            "                                                                 \n",
            " dropout_1 (Dropout)         (None, 64)                0         \n",
            "                                                                 \n",
            " dense_1 (Dense)             (None, 5)                 325       \n",
            "                                                                 \n",
            "=================================================================\n",
            "Total params: 1,265,639\n",
            "Trainable params: 1,265,639\n",
            "Non-trainable params: 0\n",
            "_________________________________________________________________\n"
          ]
        }
      ],
      "source": [
        "# create model LSTM\n",
        "model = tf.keras.Sequential([\n",
        "    tf.keras.layers.Embedding(input_dim=vocab_size, output_dim=50, input_length=200),\n",
        "    tf.keras.layers.SpatialDropout1D(0.15),\n",
        "    tf.keras.layers.LSTM(50, dropout=0.2),\n",
        "    tf.keras.layers.Dropout(0.2),\n",
        "    tf.keras.layers.Dense(64, activation='relu'),\n",
        "    tf.keras.layers.Dropout(0.2),\n",
        "    tf.keras.layers.Dense(num_class, activation='softmax')\n",
        "])\n",
        "model.compile(loss='categorical_crossentropy',\n",
        "              optimizer='adam',\n",
        "              metrics=['accuracy'])\n",
        "model.summary()"
      ]
    },
    {
      "cell_type": "code",
      "execution_count": 29,
      "metadata": {
        "colab": {
          "base_uri": "https://localhost:8080/"
        },
        "id": "j6cZVjRu3Xdc",
        "outputId": "cab20ae3-e781-4cf2-be4d-a8629ec946cc"
      },
      "outputs": [
        {
          "output_type": "stream",
          "name": "stdout",
          "text": [
            "Epoch 1/30\n",
            "178/178 [==============================] - 10s 15ms/step - loss: 1.4102 - accuracy: 0.3388 - val_loss: 1.1064 - val_accuracy: 0.4517 - lr: 0.0010\n",
            "Epoch 2/30\n",
            "178/178 [==============================] - 2s 12ms/step - loss: 0.9406 - accuracy: 0.5685 - val_loss: 0.6097 - val_accuracy: 0.7011 - lr: 0.0010\n",
            "Epoch 3/30\n",
            "178/178 [==============================] - 2s 11ms/step - loss: 0.5776 - accuracy: 0.7590 - val_loss: 0.6483 - val_accuracy: 0.7483 - lr: 0.0010\n",
            "Epoch 4/30\n",
            "178/178 [==============================] - 2s 12ms/step - loss: 0.2498 - accuracy: 0.9264 - val_loss: 0.4005 - val_accuracy: 0.8697 - lr: 0.0010\n",
            "Epoch 5/30\n",
            "178/178 [==============================] - 2s 12ms/step - loss: 0.0960 - accuracy: 0.9742 - val_loss: 0.3755 - val_accuracy: 0.8854 - lr: 0.0010\n",
            "Epoch 6/30\n",
            "174/178 [============================>.] - ETA: 0s - loss: 0.1234 - accuracy: 0.9684\n",
            " Stop training, the model has reached 90.1123583316803% val accuracy!!\n",
            "178/178 [==============================] - 2s 11ms/step - loss: 0.1227 - accuracy: 0.9685 - val_loss: 0.3981 - val_accuracy: 0.9011 - lr: 0.0010\n"
          ]
        }
      ],
      "source": [
        "num_epochs = 30\n",
        "history = model.fit(data_latih, label_latih, epochs=num_epochs, batch_size=10, \n",
        "                    validation_data=(data_test, label_test), verbose=1, callbacks = callbacks)"
      ]
    },
    {
      "cell_type": "markdown",
      "metadata": {
        "id": "eUN593gi3YjN"
      },
      "source": [
        "# Model Evaluation"
      ]
    },
    {
      "cell_type": "code",
      "execution_count": 30,
      "metadata": {
        "id": "cmftQ9Hu3XgC"
      },
      "outputs": [],
      "source": [
        "def plot_history(history):\n",
        "    acc = history.history['accuracy']\n",
        "    val_acc = history.history['val_accuracy']\n",
        "    loss = history.history['loss']\n",
        "    val_loss = history.history['val_loss']\n",
        "    x = range(1, len(acc) + 1)\n",
        "\n",
        "    plt.figure(figsize=(12, 5))\n",
        "    plt.subplot(1, 2, 1)\n",
        "    plt.plot(x, acc, 'b', label='Training acc')\n",
        "    plt.plot(x, val_acc, 'r', label='Validation acc')\n",
        "    plt.title('Training and validation accuracy')\n",
        "    plt.legend()\n",
        "    plt.subplot(1, 2, 2)\n",
        "    plt.plot(x, loss, 'b', label='Training loss')\n",
        "    plt.plot(x, val_loss, 'r', label='Validation loss')\n",
        "    plt.title('Training and validation loss')\n",
        "    plt.legend()"
      ]
    },
    {
      "cell_type": "code",
      "execution_count": 32,
      "metadata": {
        "colab": {
          "base_uri": "https://localhost:8080/",
          "height": 371
        },
        "id": "UKt3XiE8799t",
        "outputId": "7f7fa712-36ad-42ac-d62c-eb42ffe5657a"
      },
      "outputs": [
        {
          "output_type": "stream",
          "name": "stdout",
          "text": [
            "Training Accuracy: 0.9933\n",
            "Testing Accuracy:  0.8854\n"
          ]
        },
        {
          "output_type": "display_data",
          "data": {
            "text/plain": [
              "<Figure size 864x360 with 2 Axes>"
            ],
            "image/png": "[encoded data removed]"
          },
          "metadata": {
            "needs_background": "light"
          }
        }
      ],
      "source": [
        "mymodel = tf.keras.models.load_model(\"/content/model.h5\")\n",
        "loss, accuracy = mymodel.evaluate(data_latih, label_latih, verbose=False)\n",
        "print(\"Training Accuracy: {:.4f}\".format(accuracy))\n",
        "loss, accuracy = mymodel.evaluate(data_test, label_test, verbose=False)\n",
        "print(\"Testing Accuracy:  {:.4f}\".format(accuracy))\n",
        "plot_history(history)"
      ]
    }
  ],
  "metadata": {
    "accelerator": "GPU",
    "colab": {
      "collapsed_sections": [
        "Tj6DvHy0783t",
        "m24RBZJE2nj_",
        "CRHT1f6C4jlm",
        "6cr0PweQ5bUY",
        "YQSlBo-gU-dN",
        "MkzZGFI5VCJm",
        "vGYnGLqe3U39",
        "eUN593gi3YjN"
      ],
      "provenance": []
    },
    "kernelspec": {
      "display_name": "Python 3",
      "name": "python3"
    },
    "language_info": {
      "name": "python"
    }
  },
  "nbformat": 4,
  "nbformat_minor": 0
}